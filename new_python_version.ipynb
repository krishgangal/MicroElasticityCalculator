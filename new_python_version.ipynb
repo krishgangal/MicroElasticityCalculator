{
  "nbformat": 4,
  "nbformat_minor": 0,
  "metadata": {
    "colab": {
      "provenance": [],
      "authorship_tag": "ABX9TyMlIkFf/D/HiW0GMgaziaFa",
      "include_colab_link": true
    },
    "kernelspec": {
      "name": "python3",
      "display_name": "Python 3"
    },
    "language_info": {
      "name": "python"
    }
  },
  "cells": [
    {
      "cell_type": "markdown",
      "metadata": {
        "id": "view-in-github",
        "colab_type": "text"
      },
      "source": [
        "<a href=\"https://colab.research.google.com/github/krishgangal/MicroElasticityCalculator/blob/main/elasticity_calculator.ipynb\" target=\"_parent\"><img src=\"https://colab.research.google.com/assets/colab-badge.svg\" alt=\"Open In Colab\"/></a>"
      ]
    },
    {
      "cell_type": "code",
      "source": [
        "#defining a function to test if an input is a float\n",
        "def check_float(num):\n",
        "\n",
        "    try:\n",
        "        float(num)\n",
        "        return True\n",
        "\n",
        "    except ValueError:\n",
        "        return False"
      ],
      "metadata": {
        "id": "Vj1TSaM04rxd"
      },
      "execution_count": 22,
      "outputs": []
    },
    {
      "cell_type": "code",
      "execution_count": 26,
      "metadata": {
        "colab": {
          "base_uri": "https://localhost:8080/"
        },
        "id": "dP2oP1rLwqMs",
        "outputId": "cd3e14b2-30ef-4e8c-ac20-97061c10b9d6"
      },
      "outputs": [
        {
          "output_type": "stream",
          "name": "stdout",
          "text": [
            "Please enter a number for the original first price: 3\n",
            "Please enter a number for the original second price: 4\n",
            "Please enter a number for the new first price: 1\n",
            "Please enter a number for the new second price: 6\n",
            "Price inputs have been saved!\n"
          ]
        }
      ],
      "source": [
        "#initializing some variables\n",
        "\n",
        "qInitial = -1\n",
        "pInitial = -1\n",
        "qNew = -1\n",
        "pNew = -1\n",
        "\n",
        "while qInitial <= 0:\n",
        "\n",
        "  a = input(\"Please enter a number for the original first price: \")\n",
        "\n",
        "  if check_float(a):\n",
        "\n",
        "    if float(a) <= 0:\n",
        "      print(\"Please enter a positive numberical value!\")\n",
        "    else:\n",
        "      qInitial = float(a) \n",
        "\n",
        "  else: \n",
        "    print(\"Please enter a positive numberical value!\")\n",
        "\n",
        "\n",
        "while pInitial <= 0:\n",
        "  \n",
        "  b = input(\"Please enter a number for the original second price: \")\n",
        "\n",
        "  if check_float(b):\n",
        "\n",
        "    if float(b) <= 0:\n",
        "      print(\"Please enter a positive numberical value!\")\n",
        "    else:\n",
        "      pInitial = float(b)\n",
        "\n",
        "  else: \n",
        "    print(\"Please enter a positive numberical value!\")\n",
        "\n",
        "\n",
        "while qNew <= 0:\n",
        "  \n",
        "  c = input(\"Please enter a number for the new first price: \")\n",
        "\n",
        "  if check_float(c):\n",
        "\n",
        "    if float(c) <= 0:\n",
        "      print(\"Please enter a positive numberical value!\")\n",
        "    else:\n",
        "      qNew = float(c)\n",
        "\n",
        "  else: \n",
        "    print(\"Please enter a positive numberical value!\")\n",
        "    \n",
        "\n",
        "while pNew <= 0:\n",
        "  \n",
        "  d = input(\"Please enter a number for the new second price: \")\n",
        "\n",
        "  if check_float(d):\n",
        "\n",
        "    if float(d) <= 0:\n",
        "      print(\"Please enter a positive numberical value!\")\n",
        "    else:\n",
        "      pNew = float(d)\n",
        "\n",
        "  else: \n",
        "    print(\"Please enter a positive numberical value!\")\n",
        "  \n",
        "  print(\"Price inputs have been saved!\")"
      ]
    },
    {
      "cell_type": "code",
      "source": [
        "#elasticity calculator function\n",
        "def elasticity_calculator():\n",
        "\n",
        "  qPercentChange = (qInitial-qNew)/((qInitial+qNew)/2)\n",
        "  pPercentChange = (pInitial-pNew)/((pInitial+pNew)/2)\n",
        "\n",
        "  try:\n",
        "    return qPercentChange/pPercentChange;\n",
        "\n",
        "  except ZeroDivisionError:\n",
        "    return 0 #if there is no price change, then price elasticity is 0"
      ],
      "metadata": {
        "id": "GZyoHCP04wyG"
      },
      "execution_count": 27,
      "outputs": []
    },
    {
      "cell_type": "code",
      "source": [
        "print(\"The price elasticity is \" + str(elasticity_calculator()))"
      ],
      "metadata": {
        "colab": {
          "base_uri": "https://localhost:8080/"
        },
        "id": "KzaaMpJQ41Up",
        "outputId": "837e6c11-4a17-4222-9760-6483a9418a9d"
      },
      "execution_count": 28,
      "outputs": [
        {
          "output_type": "stream",
          "name": "stdout",
          "text": [
            "The price elasticity is -2.5\n"
          ]
        }
      ]
    }
  ]
}
